{
 "cells": [
  {
   "cell_type": "markdown",
   "id": "0b5453ea",
   "metadata": {},
   "source": [
    "Question no. 12 We have a string \"I+Love+Python\", we have to replace \"+\" with \" \" in the string"
   ]
  },
  {
   "cell_type": "code",
   "execution_count": 1,
   "id": "5ccc1f25",
   "metadata": {},
   "outputs": [
    {
     "data": {
      "text/plain": [
       "'I Love Python'"
      ]
     },
     "execution_count": 1,
     "metadata": {},
     "output_type": "execute_result"
    }
   ],
   "source": [
    "a = \"I+Love+Python\"\n",
    "new_a = a.replace(\"+\",\" \")\n",
    "new_a"
   ]
  },
  {
   "cell_type": "markdown",
   "id": "632d5147",
   "metadata": {},
   "source": [
    "Question no. 13 In this we will find the Unicode (\"a\" & \" $\") with the help of ord() function"
   ]
  },
  {
   "cell_type": "code",
   "execution_count": 2,
   "id": "b7ff8af6",
   "metadata": {},
   "outputs": [
    {
     "name": "stdout",
     "output_type": "stream",
     "text": [
      "The ASCII value of a is 97\n",
      "The ASCII value of a is 36\n"
     ]
    }
   ],
   "source": [
    "print(\"The ASCII value of a is\",ord(\"a\"))\n",
    "print(\"The ASCII value of a is\",ord(\"$\"))"
   ]
  },
  {
   "cell_type": "markdown",
   "id": "7a643247",
   "metadata": {},
   "source": [
    "question 14. Write a python program to solve a quadratic equation of the form ax^2+bx+c=0. Where a, b and c are to be\n",
    "taken by user input. Handle the erroneous input, such as ‘a’ should not be equal to 0.\n"
   ]
  },
  {
   "cell_type": "code",
   "execution_count": 3,
   "id": "b749d22c",
   "metadata": {},
   "outputs": [],
   "source": [
    "import math"
   ]
  },
  {
   "cell_type": "markdown",
   "id": "3d93183d",
   "metadata": {},
   "source": [
    "a,b,c are constant & x is a variablewe have to calcuilate the value of x from finding the value of Discriminant\n",
    "\n",
    "From discriminant ( disc= b^2 - 4ac) we will got 2 root values, in 3 conditions\n",
    "\n",
    "disc = 0 = Roots are real and equal\n",
    "\n",
    "disc > 0 = Roots are real & unequal\n",
    "\n",
    "disc < 0 = Roots are imaginary\n",
    "\n",
    "Roots calculation r1 = ((-b) + (math.sqrt(disc))) / 2a First root\n",
    "\n",
    "r2 = ((-b) + (math.sqrt(disc))) / 2a Second root"
   ]
  },
  {
   "cell_type": "code",
   "execution_count": 4,
   "id": "66467dcf",
   "metadata": {},
   "outputs": [
    {
     "name": "stdout",
     "output_type": "stream",
     "text": [
      "Enter the coefficient of x square : 12\n",
      "Enter the coefficient of x : 4\n",
      "Enter constant : 7\n",
      "Discriminant =  -320\n",
      "Roots are Imaginary\n",
      "Type yes to return or Press any key to exit:yes\n",
      "Enter the coefficient of x square : 1\n",
      "Enter the coefficient of x : -5\n",
      "Enter constant : 6\n",
      "Discriminant =  1\n",
      "Roots are Real & Unequal\n",
      "First Root : 3.0\n",
      "Second Root : 2.0\n",
      "Enter the coefficient of x square : 1\n",
      "Enter the coefficient of x : -2\n",
      "Enter constant : 1\n",
      "Discriminant =  0\n",
      "Roots are Real & Equal\n",
      "First Root : 1.0\n",
      "Second Root : 1.0\n",
      "Enter the coefficient of x square : After giving input values to quadratic equation, we can see above result showing all the 3 conditions with 2 roots in each case. We put yes for looping / to see again with new values, now it will continuously taking input values from user.\n"
     ]
    },
    {
     "ename": "ValueError",
     "evalue": "invalid literal for int() with base 10: 'After giving input values to quadratic equation, we can see above result showing all the 3 conditions with 2 roots in each case. We put yes for looping / to see again with new values, now it will con",
     "output_type": "error",
     "traceback": [
      "\u001b[1;31m---------------------------------------------------------------------------\u001b[0m",
      "\u001b[1;31mValueError\u001b[0m                                Traceback (most recent call last)",
      "Input \u001b[1;32mIn [4]\u001b[0m, in \u001b[0;36m<cell line: 2>\u001b[1;34m()\u001b[0m\n\u001b[0;32m      1\u001b[0m run \u001b[38;5;241m=\u001b[39m \u001b[38;5;124m\"\u001b[39m\u001b[38;5;124myes\u001b[39m\u001b[38;5;124m\"\u001b[39m\n\u001b[0;32m      2\u001b[0m \u001b[38;5;28;01mwhile\u001b[39;00m run\u001b[38;5;241m==\u001b[39m\u001b[38;5;124m\"\u001b[39m\u001b[38;5;124myes\u001b[39m\u001b[38;5;124m\"\u001b[39m:\n\u001b[1;32m----> 3\u001b[0m     a \u001b[38;5;241m=\u001b[39m \u001b[38;5;28;43mint\u001b[39;49m\u001b[43m(\u001b[49m\u001b[38;5;28;43minput\u001b[39;49m\u001b[43m(\u001b[49m\u001b[38;5;124;43m\"\u001b[39;49m\u001b[38;5;124;43mEnter the coefficient of x square : \u001b[39;49m\u001b[38;5;124;43m\"\u001b[39;49m\u001b[43m)\u001b[49m\u001b[43m)\u001b[49m\n\u001b[0;32m      4\u001b[0m     b \u001b[38;5;241m=\u001b[39m \u001b[38;5;28mint\u001b[39m(\u001b[38;5;28minput\u001b[39m(\u001b[38;5;124m\"\u001b[39m\u001b[38;5;124mEnter the coefficient of x : \u001b[39m\u001b[38;5;124m\"\u001b[39m))\n\u001b[0;32m      5\u001b[0m     c \u001b[38;5;241m=\u001b[39m \u001b[38;5;28mint\u001b[39m(\u001b[38;5;28minput\u001b[39m(\u001b[38;5;124m\"\u001b[39m\u001b[38;5;124mEnter constant : \u001b[39m\u001b[38;5;124m\"\u001b[39m))\n",
      "\u001b[1;31mValueError\u001b[0m: invalid literal for int() with base 10: 'After giving input values to quadratic equation, we can see above result showing all the 3 conditions with 2 roots in each case. We put yes for looping / to see again with new values, now it will con"
     ]
    }
   ],
   "source": [
    "run = \"yes\"\n",
    "while run==\"yes\":\n",
    "    a = int(input(\"Enter the coefficient of x square : \"))\n",
    "    b = int(input(\"Enter the coefficient of x : \"))\n",
    "    c = int(input(\"Enter constant : \"))\n",
    "\n",
    "    disc = b*b - 4*a*c\n",
    "\n",
    "    print(\"Discriminant = \",disc)\n",
    " \n",
    "    if disc == 0:\n",
    "        print(\"Roots are Real & Equal\")\n",
    "        r1 = (-b)/(2*a)    # in this disc is 0, so math.sqrt(disc) will be zero\n",
    "        r2 = (-b)/(2/a)\n",
    "        print(\"First Root :\",r1)\n",
    "        print(\"Second Root :\",r2)\n",
    "    elif disc > 0:\n",
    "        print(\"Roots are Real & Unequal\")\n",
    "        r1 = ((-b)+(math.sqrt(disc)))/(2*a)\n",
    "        r2 = ((-b)-(math.sqrt(disc)))/(2*a)\n",
    "        print(\"First Root :\",r1)\n",
    "        print(\"Second Root :\",r2)\n",
    "    else:\n",
    "        print(\"Roots are Imaginary\")\n",
    "        run = str(input(\"Type yes to return or Press any key to exit:\").casefold())\n",
    "exit()"
   ]
  },
  {
   "cell_type": "markdown",
   "id": "14f01aad",
   "metadata": {},
   "source": [
    "question 15. Write a python program to find the sum of first ‘n’ natural numbers without using any loop. Ask users to input the value of ‘n’."
   ]
  },
  {
   "cell_type": "code",
   "execution_count": 5,
   "id": "c762471e",
   "metadata": {},
   "outputs": [
    {
     "name": "stdout",
     "output_type": "stream",
     "text": [
      "Enter a number : 50\n",
      "1275\n",
      "25.5\n"
     ]
    }
   ],
   "source": [
    "n = int(input(\"Enter a number : \"))\n",
    "x = list(range(n))\n",
    "add = sum(x)+n\n",
    "\n",
    "# defining average\n",
    "avg = add/n       \n",
    "\n",
    "# printing both sum(add) & average\n",
    "print(add)\n",
    "print(avg)"
   ]
  },
  {
   "cell_type": "code",
   "execution_count": null,
   "id": "573eba27",
   "metadata": {},
   "outputs": [],
   "source": []
  }
 ],
 "metadata": {
  "kernelspec": {
   "display_name": "Python 3 (ipykernel)",
   "language": "python",
   "name": "python3"
  },
  "language_info": {
   "codemirror_mode": {
    "name": "ipython",
    "version": 3
   },
   "file_extension": ".py",
   "mimetype": "text/x-python",
   "name": "python",
   "nbconvert_exporter": "python",
   "pygments_lexer": "ipython3",
   "version": "3.9.12"
  }
 },
 "nbformat": 4,
 "nbformat_minor": 5
}
