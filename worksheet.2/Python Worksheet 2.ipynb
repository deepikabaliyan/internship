{
 "cells": [
  {
   "cell_type": "markdown",
   "id": "c50e7679",
   "metadata": {},
   "source": [
    "Python Worksheet 2"
   ]
  },
  {
   "cell_type": "markdown",
   "id": "33af8014",
   "metadata": {},
   "source": [
    "Q.11  Write a python program to find the factorial of a number."
   ]
  },
  {
   "cell_type": "markdown",
   "id": "893dc323",
   "metadata": {},
   "source": [
    "Answer.11"
   ]
  },
  {
   "cell_type": "code",
   "execution_count": 1,
   "id": "ad3151d0",
   "metadata": {},
   "outputs": [
    {
     "name": "stdout",
     "output_type": "stream",
     "text": [
      "Enter the num: 5\n",
      "The factorial of 5 is 120\n"
     ]
    }
   ],
   "source": [
    "# input from user\n",
    "num=int(input(\"Enter the num: \" ))\n",
    "\n",
    "factorial=1\n",
    "\n",
    "if num < 0:\n",
    "    print(\"Sorry, factorial does not exist for negative numbers\")\n",
    "elif num == 0:\n",
    "    print(\"The factorial of 0 is 1\")\n",
    "else:\n",
    "    for i in range(1,num + 1):\n",
    "        factorial = factorial*i\n",
    "    print(\"The factorial of\",num,\"is\",factorial)"
   ]
  },
  {
   "cell_type": "markdown",
   "id": "0f01db17",
   "metadata": {},
   "source": [
    "Q 12 :- Write a python program to find whether a number is prime or composite\n",
    "ANSWER"
   ]
  },
  {
   "cell_type": "markdown",
   "id": "10520741",
   "metadata": {},
   "source": [
    "Answer"
   ]
  },
  {
   "cell_type": "code",
   "execution_count": 2,
   "id": "dcdca927",
   "metadata": {},
   "outputs": [
    {
     "name": "stdout",
     "output_type": "stream",
     "text": [
      "Enter any number: 19\n",
      "19 is a prime number\n"
     ]
    }
   ],
   "source": [
    "# taking input from user\n",
    "number = int(input(\"Enter any number: \"))\n",
    "\n",
    "# prime number is always greater than 1\n",
    "if number > 1:\n",
    "    for i in range(2, number):\n",
    "        if (number % i) == 0:\n",
    "            print(number, \"is not a prime number\")\n",
    "            break\n",
    "    else:\n",
    "        print(number, \"is a prime number\")\n",
    "\n",
    "# if the entered number is less than or equal to 1\n",
    "# then it is not prime number\n",
    "else:\n",
    "    print(number, \"is not a prime number\")"
   ]
  },
  {
   "cell_type": "markdown",
   "id": "49be0d4d",
   "metadata": {},
   "source": [
    "Q 13 Write a python program to check whether a given string is palindrome or not."
   ]
  },
  {
   "cell_type": "markdown",
   "id": "5cd2d0ce",
   "metadata": {},
   "source": [
    "Ans"
   ]
  },
  {
   "cell_type": "code",
   "execution_count": 3,
   "id": "9749a27e",
   "metadata": {},
   "outputs": [
    {
     "name": "stdout",
     "output_type": "stream",
     "text": [
      "The given number is: 65\n",
      "The number is not a palindrome\n"
     ]
    }
   ],
   "source": [
    "number1 = int(input(\"The given number is: \"))\n",
    "x=number1\n",
    "rev=0\n",
    "\n",
    "while(number1 > 0): \n",
    "    a = number1 % 10\n",
    "    rev = rev * 10 + a \n",
    "    number1 = number1 // 10\n",
    "if (x==rev):\n",
    "    print(\"The number is a plaindrome\")\n",
    "else:\n",
    "    print(\"The number is not a palindrome\")"
   ]
  },
  {
   "cell_type": "markdown",
   "id": "9774ba85",
   "metadata": {},
   "source": [
    "Q 14  Write a Python program to get the third side of right-angled triangle from two given sides.\n"
   ]
  },
  {
   "cell_type": "markdown",
   "id": "cb86af2d",
   "metadata": {},
   "source": [
    "Answer"
   ]
  },
  {
   "cell_type": "code",
   "execution_count": 4,
   "id": "be86f85e",
   "metadata": {},
   "outputs": [
    {
     "name": "stdout",
     "output_type": "stream",
     "text": [
      "Hypotenuse = 5.0\n",
      "Adjacent = 4.0\n",
      "Opposite = 3.0\n",
      "You know the answer!\n"
     ]
    }
   ],
   "source": [
    "def pythagoras(opposite_side,adjacent_side,hypotenuse):\n",
    "        if opposite_side == str(\"x\"):\n",
    "            return (\"Opposite = \" + str(((hypotenuse**2) - (adjacent_side**2))**0.5))\n",
    "        elif adjacent_side == str(\"x\"):\n",
    "            return (\"Adjacent = \" + str(((hypotenuse**2) - (opposite_side**2))**0.5))\n",
    "        elif hypotenuse == str(\"x\"):\n",
    "            return (\"Hypotenuse = \" + str(((opposite_side**2) + (adjacent_side**2))**0.5))\n",
    "        else:\n",
    "            return \"You know the answer!\"\n",
    "    \n",
    "print(pythagoras(3,4,'x'))\n",
    "print(pythagoras(3,'x',5))\n",
    "print(pythagoras('x',4,5))\n",
    "print(pythagoras(3,4,5))"
   ]
  },
  {
   "cell_type": "markdown",
   "id": "55938ffd",
   "metadata": {},
   "source": [
    "Q. 15  Write a python program to print the frequency of each of the characters present in a given strin"
   ]
  },
  {
   "cell_type": "markdown",
   "id": "ef5c6dbf",
   "metadata": {},
   "source": [
    "Answer"
   ]
  },
  {
   "cell_type": "code",
   "execution_count": 5,
   "id": "feaa153b",
   "metadata": {},
   "outputs": [
    {
     "name": "stdout",
     "output_type": "stream",
     "text": [
      "Count of all characters in programmer_vyas is :\n",
      " {'p': 1, 'r': 3, 'o': 1, 'g': 1, 'a': 2, 'm': 2, 'e': 1, '_': 1, 'v': 1, 'y': 1, 's': 1}\n"
     ]
    }
   ],
   "source": [
    "test_str = \"programmer_vyas\"\n",
    "all_freq = {} \n",
    "  \n",
    "for i in test_str: \n",
    "    if i in all_freq: \n",
    "        all_freq[i] += 1\n",
    "    else: \n",
    "        all_freq[i] = 1\n",
    "\n",
    "print (\"Count of all characters in programmer_vyas is :\\n \" +  str(all_freq))"
   ]
  },
  {
   "cell_type": "code",
   "execution_count": null,
   "id": "9e570740",
   "metadata": {},
   "outputs": [],
   "source": []
  }
 ],
 "metadata": {
  "kernelspec": {
   "display_name": "Python 3 (ipykernel)",
   "language": "python",
   "name": "python3"
  },
  "language_info": {
   "codemirror_mode": {
    "name": "ipython",
    "version": 3
   },
   "file_extension": ".py",
   "mimetype": "text/x-python",
   "name": "python",
   "nbconvert_exporter": "python",
   "pygments_lexer": "ipython3",
   "version": "3.9.12"
  }
 },
 "nbformat": 4,
 "nbformat_minor": 5
}
