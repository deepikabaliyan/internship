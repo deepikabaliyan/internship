{
 "cells": [
  {
   "cell_type": "markdown",
   "id": "c642a0dd",
   "metadata": {},
   "source": [
    "Python Worksheet 3"
   ]
  },
  {
   "cell_type": "markdown",
   "id": "bb04ada9",
   "metadata": {},
   "source": [
    "11.\tWrite a python function print pyramid of stars. Level of the pyramid should be taken as an input from the user. E.g.\n",
    "Input = 5 \n"
   ]
  },
  {
   "cell_type": "code",
   "execution_count": 1,
   "id": "f7dcee18",
   "metadata": {},
   "outputs": [
    {
     "name": "stdout",
     "output_type": "stream",
     "text": [
      "Enter the Number :- 8\n",
      "       * \n",
      "      * * \n",
      "     * * * \n",
      "    * * * * \n",
      "   * * * * * \n",
      "  * * * * * * \n",
      " * * * * * * * \n",
      "* * * * * * * * \n"
     ]
    }
   ],
   "source": [
    "num = int(input(\"Enter the Number :- \"))\n",
    "for i in range(0,num):\n",
    "    for j in range(0,num-i-1):\n",
    "        print(end=\" \") # if we remove space from bracket then all stars will start from left side following margin line\n",
    "    for j in range(0,i+1):\n",
    "        print(\"*\",end=\" \")\n",
    "    print()"
   ]
  },
  {
   "cell_type": "markdown",
   "id": "fba4b0be",
   "metadata": {},
   "source": [
    "12.\tWrite a python function print Hourglass pattern. E.g."
   ]
  },
  {
   "cell_type": "code",
   "execution_count": 2,
   "id": "d2dfca38",
   "metadata": {},
   "outputs": [
    {
     "name": "stdout",
     "output_type": "stream",
     "text": [
      "Enter the Number :- 8\n",
      "* * * * * * * * \n",
      " * * * * * * * \n",
      "  * * * * * * \n",
      "   * * * * * \n",
      "    * * * * \n",
      "     * * * \n",
      "      * * \n",
      "       * \n",
      "      * * \n",
      "     * * * \n",
      "    * * * * \n",
      "   * * * * * \n",
      "  * * * * * * \n",
      " * * * * * * * \n",
      "* * * * * * * * \n"
     ]
    }
   ],
   "source": [
    "num = int(input(\"Enter the Number :- \"))\n",
    "for i in range(num,0,-1):\n",
    "    for j in range(num,i,-1):\n",
    "        print(end=\" \")\n",
    "    for k in range(0,i):\n",
    "        print(\"*\",end=\" \")\n",
    "    print()\n",
    "for i in range (1,num):\n",
    "    for j in range(0,num-i-1):\n",
    "        print(end=\" \")\n",
    "    for k in range(0,i+1):\n",
    "        print(\"*\",end=\" \")\n",
    "    print()"
   ]
  },
  {
   "cell_type": "markdown",
   "id": "cd55f110",
   "metadata": {},
   "source": [
    "13.\tWrite a python function to print Pascal’s Triangle. The number of levels in the triangle must be taken as input by the user. E.g.\n",
    "Input = 5 "
   ]
  },
  {
   "cell_type": "code",
   "execution_count": 3,
   "id": "f5b23e2c",
   "metadata": {},
   "outputs": [
    {
     "name": "stdout",
     "output_type": "stream",
     "text": [
      "Enter the Number :-8\n",
      "1   \n",
      "1   1   \n",
      "1   2   1   \n",
      "1   3   3   1   \n",
      "1   4   6   4   1   \n",
      "1   5   10   10   5   1   \n",
      "1   6   15   20   15   6   1   \n",
      "1   7   21   35   35   21   7   1   \n"
     ]
    }
   ],
   "source": [
    "def fact(n):\n",
    "    f=1\n",
    "    if n==0:\n",
    "        return 1\n",
    "    for i in range(2,n+1):\n",
    "        f=f*i\n",
    "    return f\n",
    "def comb(m,n):\n",
    "    res=fact(m)//(fact(m-n)*fact(n))\n",
    "    return res\n",
    "num = int(input(\"Enter the Number :-\"))\n",
    "for i in range(0,num):\n",
    "    for j in range(0,i+1):\n",
    "        print(comb(i,j),\" \",end=\" \")\n",
    "    print()"
   ]
  },
  {
   "cell_type": "markdown",
   "id": "00669112",
   "metadata": {},
   "source": [
    "14.Write a python function to print Diamond Shaped Pattern shown below. Function must take integer input which represents the number of stars in the middle most line. E.g.: Input = 5"
   ]
  },
  {
   "cell_type": "code",
   "execution_count": 4,
   "id": "3ba942d2",
   "metadata": {},
   "outputs": [
    {
     "name": "stdout",
     "output_type": "stream",
     "text": [
      "Enter the Number :- 8\n",
      "       * \n",
      "      * * \n",
      "     * * * \n",
      "    * * * * \n",
      "   * * * * * \n",
      "  * * * * * * \n",
      " * * * * * * * \n",
      "* * * * * * * * \n",
      " * * * * * * * \n",
      "  * * * * * * \n",
      "   * * * * * \n",
      "    * * * * \n",
      "     * * * \n",
      "      * * \n",
      "       * \n"
     ]
    }
   ],
   "source": [
    "num = int(input(\"Enter the Number :- \"))\n",
    "for i in range (0,num):\n",
    "    for s in range(0,num-i-1):\n",
    "        print(end=\" \")\n",
    "    for j in range(0,i+1):\n",
    "        print(\"* \",end=\"\")\n",
    "    print()\n",
    "for  i in range(num-1,0,-1):\n",
    "    for s in range(num,i,-1):\n",
    "        print(end=\" \")\n",
    "    for j in range(0,i):\n",
    "        print(\"* \",end=\"\")\n",
    "    print()"
   ]
  },
  {
   "cell_type": "markdown",
   "id": "b9ae067f",
   "metadata": {},
   "source": [
    "15.\tWrite a python function to print Diamond Shaped Character Pattern shown below. Function must take integer input within range 1 to 26, which represents the rank of the alphabet. E.g.:\n",
    "Input = 5 "
   ]
  },
  {
   "cell_type": "code",
   "execution_count": 6,
   "id": "1a1c2a05",
   "metadata": {},
   "outputs": [
    {
     "name": "stdout",
     "output_type": "stream",
     "text": [
      "Enter the Number :- 8\n",
      "        A \n",
      "       A B \n",
      "      A B C \n",
      "     A B C D \n",
      "    A B C D E \n",
      "   A B C D E F \n",
      "  A B C D E F G \n",
      " A B C D E F G H \n",
      "  A B C D E F G \n",
      "   A B C D E F \n",
      "    A B C D E \n",
      "     A B C D \n",
      "      A B C \n",
      "       A B \n",
      "        A \n"
     ]
    }
   ],
   "source": [
    "n = int(input(\"Enter the Number :- \"))  \n",
    "\n",
    "for i in range(n):\n",
    "    print(' '*(n-i-1),end=\" \")\n",
    "    for j in range(i+1):\n",
    "        print(chr(65+j),end=\" \")\n",
    "    print()    \n",
    "for i in range(n-1):\n",
    "    print(' '*i,end=\"  \")\n",
    "    for j in range(n-i-1):\n",
    "        print(chr(65+j),end=\" \")\n",
    "    print()"
   ]
  },
  {
   "cell_type": "code",
   "execution_count": null,
   "id": "4f53ba93",
   "metadata": {},
   "outputs": [],
   "source": []
  }
 ],
 "metadata": {
  "kernelspec": {
   "display_name": "Python 3 (ipykernel)",
   "language": "python",
   "name": "python3"
  },
  "language_info": {
   "codemirror_mode": {
    "name": "ipython",
    "version": 3
   },
   "file_extension": ".py",
   "mimetype": "text/x-python",
   "name": "python",
   "nbconvert_exporter": "python",
   "pygments_lexer": "ipython3",
   "version": "3.9.12"
  }
 },
 "nbformat": 4,
 "nbformat_minor": 5
}
